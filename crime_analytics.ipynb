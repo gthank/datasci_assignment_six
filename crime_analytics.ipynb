{
 "cells": [
  {
   "cell_type": "markdown",
   "metadata": {},
   "source": [
    "Analyzing Crime Statistics for the Summer of 2014 in Seattle\n",
    "============================================================\n",
    "\n",
    "This is an exploration of (a reduced set of) public crime data in the city of Seattle during the Summer of 2014. The goal is to identify and visualize interesting patterns in this data."
   ]
  },
  {
   "cell_type": "markdown",
   "metadata": {},
   "source": [
    "The Data\n",
    "--------\n",
    "\n",
    "The data comes in the form of a CSV file, so let's load it up in [Pandas](http://pandas.pydata.org/pandas-docs/stable/) and see what we've got."
   ]
  },
  {
   "cell_type": "code",
   "execution_count": null,
   "metadata": {
    "collapsed": true
   },
   "outputs": [],
   "source": [
    "import pandas as pd"
   ]
  },
  {
   "cell_type": "code",
   "execution_count": null,
   "metadata": {
    "collapsed": false
   },
   "outputs": [],
   "source": [
    "seattle_data = pd.read_csv('data/seattle_incidents_summer_2014.csv')"
   ]
  },
  {
   "cell_type": "markdown",
   "metadata": {},
   "source": [
    "Well, the first I noticed about it is that type inference is failing on column 9. Let's see what it's supposed to be."
   ]
  },
  {
   "cell_type": "code",
   "execution_count": null,
   "metadata": {
    "collapsed": false
   },
   "outputs": [],
   "source": [
    "seattle_data.columns"
   ]
  },
  {
   "cell_type": "markdown",
   "metadata": {},
   "source": [
    "Apparently, that's `Occurred Date Range End`. Let's take a peak and see what's in that column."
   ]
  },
  {
   "cell_type": "code",
   "execution_count": null,
   "metadata": {
    "collapsed": false
   },
   "outputs": [],
   "source": [
    "seattle_data['Occurred Date Range End']"
   ]
  },
  {
   "cell_type": "markdown",
   "metadata": {},
   "source": [
    "OK, it seems like the problem is some `NaN` entries. Luckily, Pandas let's us specify different strings that mean N/A, so we'll read the file again and tell it that `NaN` is one such value.\n",
    "\n",
    "While we're at it, let's tell Pandas to parse all these different timestamps. We'll leave it to Pandas to figure out the format, if possible."
   ]
  },
  {
   "cell_type": "code",
   "execution_count": null,
   "metadata": {
    "collapsed": false
   },
   "outputs": [],
   "source": [
    "seattle_data = pd.read_csv(\n",
    "    'data/seattle_incidents_summer_2014.csv',  # The data file.\n",
    "    na_values=['NaN'],  # 'NaN' means it's a missing value.\n",
    "    parse_dates=[7,8,9],  # Columns 7-9 contain timestamps; try to parse them as such.\n",
    "    infer_datetime_format=True  # I don't want to comb over all that data to figure out a format; let Pandas try.\n",
    ")\n",
    "\n",
    "# And now set up our ``DataFrame`` in dplython to make it easier to manipulate.\n",
    "from dplython import mutate, select, DplyFrame, X\n",
    "dply_seattle = DplyFrame(seattle_data)\n",
    "\n",
    "# Tell Jupyter we want to render these plots inline in the notebook.\n",
    "import matplotlib.pyplot as plt\n",
    "%matplotlib inline\n",
    "# XKCD-style\n",
    "# plt.xkcd()\n",
    "plt.style.use(\"ggplot\")"
   ]
  },
  {
   "cell_type": "markdown",
   "metadata": {},
   "source": [
    "No warnings or errors this time, so I suspect our changes worked. Let's go ahead and peek at the data to see how it looks."
   ]
  },
  {
   "cell_type": "code",
   "execution_count": null,
   "metadata": {
    "collapsed": false
   },
   "outputs": [],
   "source": [
    "seattle_data"
   ]
  },
  {
   "cell_type": "markdown",
   "metadata": {},
   "source": [
    "That seems reasonable, so let's move on to the next step: visualizing the data and identifying patterns."
   ]
  },
  {
   "cell_type": "markdown",
   "metadata": {},
   "source": [
    "Analysis\n",
    "--------\n",
    "\n",
    "Our dataset, when augmented with some external datasets, can answer a wide range of questions. Let's choose a few for this exercise.\n",
    "\n",
    "### Questions to Answer\n",
    "\n",
    "1. How do incidents vary by time of day?\n",
    "    1. Which incidents are most common in the evening?\n",
    "    1. During what periods of the day are robberies most common?\n",
    "\n",
    "1. How do incidents vary month to month in the Summer 2014 dataset?\n",
    "\n",
    "1. Which incident types tend to correlate with each other on a day-by-day basis?\n",
    "\n",
    "1. Do certain crimes correlate with environmental factors such as temperature? NOTE: This question cannot be answered without incorporating additional data. I have reached out to a potential source of weather data, but have not yet heard back from them."
   ]
  },
  {
   "cell_type": "markdown",
   "metadata": {},
   "source": [
    "### Question 1: How does the overall incident rate vary by time of day?"
   ]
  },
  {
   "cell_type": "markdown",
   "metadata": {},
   "source": [
    "### Question 2: How do incidents vary month to month in the Summer 2014 dataset.\n",
    "\n",
    "To answer this question, we'll start by plotting the total number of incidents by date over the full dataset. The first issue we see is the `Occurred Date or Date Range Start` column is at the wrong level of granularity to answer this question: it is actually a timestamp. For our purposes, we're going to want to roll up by date, so let's add a pair of new columns: `date_of_incident` (the date we'll use to group offenses), and `identity`, which is just a bunch of 1s that we'll be summing later to get total counts for each offense on each day."
   ]
  },
  {
   "cell_type": "code",
   "execution_count": null,
   "metadata": {
    "collapsed": false
   },
   "outputs": [],
   "source": [
    "import datetime\n",
    "def get_date(ts):\n",
    "    return ts.date()\n",
    "\n",
    "with_date = (dply_seattle\n",
    "    >> mutate(\n",
    "        date_of_incident = X['Occurred Date or Date Range Start'].apply(get_date),\n",
    "        identity = 1\n",
    "    )\n",
    ")\n",
    "with_date.head()"
   ]
  },
  {
   "cell_type": "markdown",
   "metadata": {},
   "source": [
    "Now we have the basic info we need for plotting the data as a date-series. Rather than a raw \"incident\" count by date, I think it would be useful to see the different types of offenses broken out separately. A line chart would be a fairly obvious choice here, but I'd also like to get an idea of the overall number of offenses per day, so let's use a [stacked area plot](http://pandas.pydata.org/pandas-docs/stable/visualization.html#visualization-area-plot) instead, which is happily baked right into the `DataFrame`.\n",
    "\n",
    "This visualization expects to find the different categories to plot as columns, so we'll need to reshape our data. Once again, the `DataFrame` has what we need: the [`pivot_table`](http://pandas.pydata.org/pandas-docs/stable/reshaping.html#pivot-tables) function."
   ]
  },
  {
   "cell_type": "code",
   "execution_count": null,
   "metadata": {
    "collapsed": false
   },
   "outputs": [],
   "source": [
    "date_and_offense_counts = with_date[[\"date_of_incident\", \"Offense Type\", \"identity\"]].pivot_table(\n",
    "    index=\"date_of_incident\",  # We're going to use the date of the offense as the index.\n",
    "    columns=\"Offense Type\",  # For each type of offense, we'll create a new column.\n",
    "    values=\"identity\",  # The value we're counting; in the raw data, this is a 1 for\n",
    "                        # each offense.\n",
    "    aggfunc=sum,  # We want to roll up our count of `identity` for each category, so\n",
    "                  # we use the ``sum`` aggregation. If we omit this, the entire pivot\n",
    "                  # operation will fail because we will have more than one row for\n",
    "                  # each date.\n",
    "    dropna=False,  # We don't want to drop missing values; we'll use a \"filler\" value instead.\n",
    "    fill_value=0  # 0, to be precise.\n",
    ")\n",
    "date_and_offense_counts.head()"
   ]
  },
  {
   "cell_type": "markdown",
   "metadata": {},
   "source": [
    "Hmm… that's a **lot** of columns. I think we're going to need to pare down our categories a bit. This is going to be a *very* rough cut at this, because doing a good job would likely require a detailed analysis of the coding system used to build the source data, and I don't have that information. \n",
    "\n",
    "From a cursory glance at the data, I can see that there are multiple types of offense for assaults, weapons charges, etc., so let's try to consolidate similar types of offense. Each of those \"super categories\" appears to be broken down using the following scheme: TOP-SUB1-SUB2, so we can get the top-level categories by doing a simple split."
   ]
  },
  {
   "cell_type": "code",
   "execution_count": null,
   "metadata": {
    "collapsed": false
   },
   "outputs": [],
   "source": [
    "def extract_top_level_type(x):\n",
    "    return x.split('-')[0]\n",
    "\n",
    "consolidated_with_date = (with_date\n",
    "    >> mutate(\n",
    "        consolidated_offense = X['Offense Type'].apply(extract_top_level_type)\n",
    "    )\n",
    "    >> select(X.date_of_incident, X.consolidated_offense, X.identity)\n",
    ")"
   ]
  },
  {
   "cell_type": "markdown",
   "metadata": {},
   "source": [
    "OK, let's see how many categories we're looking at after the consolidation."
   ]
  },
  {
   "cell_type": "code",
   "execution_count": null,
   "metadata": {
    "collapsed": false
   },
   "outputs": [],
   "source": [
    "consolidated_with_date.consolidated_offense.nunique()"
   ]
  },
  {
   "cell_type": "markdown",
   "metadata": {},
   "source": [
    "51 is still too many, so let's try something a bit more… extensive.\n",
    "\n",
    "According to [this LegalMatch article](http://www.legalmatch.com/law-library/article/what-are-the-different-types-of-crimes.html), crimes are generally divided into the following categories:\n",
    "\n",
    "<dl>\n",
    "  <dt>Personal Crimes</dt><dd>crimes that result in physical or mental harm to another person, e.g., assault</dd>\n",
    "  <dt>Property Crimes</dt><dd>crimes that do not necessarily involve harm to another person, instead involving an interference with another person’s right to use or enjoy their property, e.g., burglary</dd>\n",
    "  <dt>Inchoate Crimes</dt><dd>crimes that were begun, but not completed, e.g., solicitation. This requires that a person take a substantial step to complete a crime, as opposed to just “intend” to commit a crime.</dd>\n",
    "  <dt>Statutory Crimes</dt><dd>a violation of a specific state or federal statute and can involve either property offenses or personal offense, e.g., DUI.</dd>\n",
    "</dl>\n",
    "\n",
    "I have manually mapped each of the `Offense Type` entries back to these 4 categories, although based on my rudimentary undertanding, none of them actually qualified as \"Inchoate\", and some would have fit under either \"Personal\" or \"Property\", e.g, all of the `ROBBERY-…` entries."
   ]
  },
  {
   "cell_type": "code",
   "execution_count": null,
   "metadata": {
    "collapsed": false
   },
   "outputs": [],
   "source": [
    "_personal = set([\n",
    "    'ASSLT-AGG-BODYFORCE',\n",
    "    'ASSLT-AGG-GUN',\n",
    "    'ASSLT-AGG-POLICE-BODYFORCE',\n",
    "    'ASSLT-AGG-POLICE-GUN',\n",
    "    'ASSLT-AGG-POLICE-WEAPON',\n",
    "    'ASSLT-AGG-WEAPON',\n",
    "    'ASSLT-NONAGG',\n",
    "    'ASSLT-NONAGG-POLICE',\n",
    "    'DISPUTE-OTH',\n",
    "    'ENDANGERMENT',\n",
    "    'HARASSMENT',\n",
    "    'HOMICIDE-JUST-GUN',\n",
    "    'HOMICIDE-JUST-WEAPON',\n",
    "    'HOMICIDE-PREMEDITATED-GUN',\n",
    "    'INJURY - ACCIDENTAL',\n",
    "    'INJURY - OTHER',\n",
    "    'MALICIOUS HARASSMENT',\n",
    "    'ROBBERY-BANK-BODYFORCE',\n",
    "    'ROBBERY-BANK-GUN',\n",
    "    'ROBBERY-BANK-WEAPON',\n",
    "    'ROBBERY-BUSINESS-BODYFORCE',\n",
    "    'ROBBERY-BUSINESS-GUN',\n",
    "    'ROBBERY-BUSINESS-WEAPON',\n",
    "    'ROBBERY-RESIDENCE-BODYFORCE',\n",
    "    'ROBBERY-RESIDENCE-GUN',\n",
    "    'ROBBERY-RESIDENCE-WEAPON',\n",
    "    'ROBBERY-STREET-BODYFORCE',\n",
    "    'ROBBERY-STREET-GUN',\n",
    "    'ROBBERY-STREET-WEAPON',\n",
    "    'THREATS-KILL',\n",
    "    'THREATS-OTHER',\n",
    "    'THREATS-WEAPON',\n",
    "])\n",
    "_property = set([\n",
    "    'BURGLARY-FORCE-NONRES',\n",
    "    'BURGLARY-FORCE-RES',\n",
    "    'BURGLARY-NOFORCE-NONRES',\n",
    "    'BURGLARY-NOFORCE-RES',\n",
    "    'BURGLARY-SECURE PARKING-NONRES',\n",
    "    'BURGLARY-SECURE PARKING-RES',\n",
    "    'COUNTERFEIT',\n",
    "    'DISPUTE-CIVIL PROPERTY (AUTO)',\n",
    "    'DISPUTE-CIVIL PROPERTY (NON AU',\n",
    "    'EMBEZZLE',\n",
    "    'FORGERY-CHECK',\n",
    "    'FORGERY-CREDIT CARD',\n",
    "    'FORGERY-OTH',\n",
    "    'FRAUD-CHECK',\n",
    "    'FRAUD-COMPUTER',\n",
    "    'FRAUD-CREDIT CARD',\n",
    "    'FRAUD-IDENTITY THEFT',\n",
    "    'FRAUD-OTHER',\n",
    "    'FRAUD-WIRE-ELECTRONIC',\n",
    "    'PROP RECOVERED-OTHER AGENCY',\n",
    "    'PROPERTY DAMAGE - GRAFFITI',\n",
    "    'PROPERTY DAMAGE-NON RESIDENTIA',\n",
    "    'PROPERTY DAMAGE-RESIDENTIAL',\n",
    "    'PROPERTY FOUND',\n",
    "    'PROPERTY LOST',\n",
    "    'PROPERTY LOST - POLICE EQUIPME',\n",
    "    'PROPERTY STOLEN-POSSESS',\n",
    "    'PROPERTY STOLEN-SELL',\n",
    "    'PROPERTY STOLEN-TRAFFICKING',\n",
    "    'RECKLESS BURNING',\n",
    "    'THEFT OF SERVICES',\n",
    "    'THEFT-AUTO PARTS',\n",
    "    'THEFT-AUTOACC',\n",
    "    'THEFT-BICYCLE',\n",
    "    'THEFT-BOAT',\n",
    "    'THEFT-BUILDING',\n",
    "    'THEFT-CARPROWL',\n",
    "    'THEFT-COINOP',\n",
    "    'THEFT-LICENSE PLATE',\n",
    "    'THEFT-MAIL',\n",
    "    'THEFT-OTH',\n",
    "    'THEFT-PKPOCKET',\n",
    "    'THEFT-PRSNATCH',\n",
    "    'THEFT-SHOPLIFT',\n",
    "    'TRESPASS',\n",
    "    'VEH-RCVD-FOR OTHER AGENCY',\n",
    "    'VEH-THEFT-AUTO',\n",
    "    'VEH-THEFT-MTRCYCLE',\n",
    "    'VEH-THEFT-OTHVEH',\n",
    "    'VEH-THEFT-TRAILER',\n",
    "    'VEH-THEFT-TRUCK',\n",
    "])\n",
    "_inchoate = set()\n",
    "_statutory = set([\n",
    "    'ANIMAL-BITE',\n",
    "    'ANIMAL-CRUELTY',\n",
    "    'ANIMAL-OTH',\n",
    "    'BIAS INCIDENT',\n",
    "    'DISORDERLY CONDUCT',\n",
    "    'DISTURBANCE-NOISE',\n",
    "    'DISTURBANCE-OTH',\n",
    "    'DRIVE-BY',\n",
    "    'DUI-DRUGS',\n",
    "    'DUI-LIQUOR',\n",
    "    'ELUDING-FELONY FLIGHT',\n",
    "    'ESCAPE',\n",
    "    'FALSE REPORT',\n",
    "    'FIREWORK-POSSESS',\n",
    "    'FIREWORK-USE',\n",
    "    'ILLEGAL DUMPING',\n",
    "    'LIQUOR LAW VIOLATION',\n",
    "    'NARC-DRUG TRAFFIC LOITERING',\n",
    "    'NARC-EQUIPMENT/PARAPHENALIA',\n",
    "    'NARC-FORGERY-PRESCRIPTION',\n",
    "    'NARC-FOUND-AMPHETAMINE',\n",
    "    'NARC-FOUND-COCAINE',\n",
    "    'NARC-FOUND-HEROIN',\n",
    "    'NARC-FOUND-MARIJU',\n",
    "    'NARC-FOUND-METH',\n",
    "    'NARC-FOUND-OPIUM',\n",
    "    'NARC-FOUND-OTHER',\n",
    "    'NARC-FOUND-SYNTHETIC',\n",
    "    'NARC-FRAUD-PRESCRIPTION',\n",
    "    'NARC-POSSESS-AMPHETAMINE',\n",
    "    'NARC-POSSESS-COCAINE',\n",
    "    'NARC-POSSESS-HALLUCINOGEN',\n",
    "    'NARC-POSSESS-HEROIN',\n",
    "    'NARC-POSSESS-MARIJU',\n",
    "    'NARC-POSSESS-METH',\n",
    "    'NARC-POSSESS-OTHER',\n",
    "    'NARC-POSSESS-PILL/TABLET',\n",
    "    'NARC-PRODUCE-MARIJU',\n",
    "    'NARC-SELL-AMPHETAMINE',\n",
    "    'NARC-SELL-COCAINE',\n",
    "    'NARC-SELL-HEROIN',\n",
    "    'NARC-SELL-MARIJU',\n",
    "    'NARC-SELL-METH',\n",
    "    'NARC-SELL-SYNTHETIC',\n",
    "    'NARC-SMUGGLE-OTHER',\n",
    "    'OBSTRUCT',\n",
    "    'PORNOGRAPHY-OBSCENE MATERIAL',\n",
    "    'PROSTITUTION',\n",
    "    'PROSTITUTION LOITERING',\n",
    "    'PROSTITUTION PATRONIZING',\n",
    "    'PROSTITUTION-ASSIST-PROMOTE',\n",
    "    'TRAFFIC',\n",
    "    'URINATING/DEFECATING-IN PUBLIC',\n",
    "    'VIOL-COURT ORDER',\n",
    "    'WARRANT-FUGITIVE',\n",
    "    'WARRARR-FELONY',\n",
    "    'WARRARR-MISDEMEANOR',\n",
    "    'WEAPON-CONCEALED',\n",
    "    'WEAPON-DISCHARGE',\n",
    "    'WEAPON-POSSESSION',\n",
    "    'WEAPON-SELLING',\n",
    "    'WEAPON-SURRENDER-EXCLUDING FIR',\n",
    "    'WEAPON-UNLAWFUL USE',\n",
    "    '[INC - CASE DC USE ONLY]'\n",
    "])\n",
    "\n",
    "def map_offense_type_to_category(ot):\n",
    "    if ot in _personal:\n",
    "        return \"PERSONAL\"\n",
    "    if ot in _property:\n",
    "        return \"PROPERTY\"\n",
    "    if ot in _inchoate:\n",
    "        return \"INCHOATE\"\n",
    "    if ot in _statutory:\n",
    "        return \"STATUTORY\"\n",
    "    return None\n",
    "\n",
    "consolidated_with_date = (with_date\n",
    "    >> mutate(\n",
    "        consolidated_offense = X['Offense Type'].apply(map_offense_type_to_category)\n",
    "    )\n",
    "    >> select(X.date_of_incident, X.consolidated_offense, X.identity)\n",
    ")"
   ]
  },
  {
   "cell_type": "markdown",
   "metadata": {},
   "source": [
    "OK, let's see how many categories we're looking at after *this* consolidation (it should be 3)."
   ]
  },
  {
   "cell_type": "code",
   "execution_count": null,
   "metadata": {
    "collapsed": false
   },
   "outputs": [],
   "source": [
    "consolidated_with_date.consolidated_offense.nunique()"
   ]
  },
  {
   "cell_type": "markdown",
   "metadata": {},
   "source": [
    "3 is the answer we were looking for, so let's do an area plot now."
   ]
  },
  {
   "cell_type": "code",
   "execution_count": null,
   "metadata": {
    "collapsed": false
   },
   "outputs": [],
   "source": [
    "date_and_offense_counts = consolidated_with_date.pivot_table(\n",
    "    index=\"date_of_incident\",  # We're going to use the date of the offense as the index.\n",
    "    columns=\"consolidated_offense\",  # For each type of offense, we'll create a new column.\n",
    "    values=\"identity\",  # The value we're counting; in the raw data, this is a 1 for\n",
    "                        # each offense.\n",
    "    aggfunc=sum,  # We want to roll up our count of `identity` for each category, so\n",
    "                  # we use the ``sum`` aggregation. If we omit this, the entire pivot\n",
    "                  # operation will fail because we will have more than one row for\n",
    "                  # each date.\n",
    "    dropna=False,  # We don't want to drop missing values; we'll use a \"filler\" value instead.\n",
    "    fill_value=0  # 0, to be precise.\n",
    ")\n",
    "date_and_offense_counts.plot.area(figsize=(12,8))"
   ]
  },
  {
   "cell_type": "markdown",
   "metadata": {},
   "source": [
    "We can see that the overall crime rate begins to drop off in August, driven primarily by a drop in property crime rates. Rates of personal and statutory crimes do not seem to be affected as deeply by the month."
   ]
  }
 ],
 "metadata": {
  "kernelspec": {
   "display_name": "Python 3",
   "language": "python",
   "name": "python3"
  },
  "language_info": {
   "codemirror_mode": {
    "name": "ipython",
    "version": 3
   },
   "file_extension": ".py",
   "mimetype": "text/x-python",
   "name": "python",
   "nbconvert_exporter": "python",
   "pygments_lexer": "ipython3",
   "version": "3.5.2"
  }
 },
 "nbformat": 4,
 "nbformat_minor": 0
}
